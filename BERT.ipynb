{
  "nbformat": 4,
  "nbformat_minor": 0,
  "metadata": {
    "colab": {
      "provenance": [],
      "authorship_tag": "ABX9TyPAXiFb2xo58r2qtfJ4u109",
      "include_colab_link": true
    },
    "kernelspec": {
      "name": "python3",
      "display_name": "Python 3"
    },
    "language_info": {
      "name": "python"
    }
  },
  "cells": [
    {
      "cell_type": "markdown",
      "metadata": {
        "id": "view-in-github",
        "colab_type": "text"
      },
      "source": [
        "<a href=\"https://colab.research.google.com/github/newmantic/BERT/blob/main/BERT.ipynb\" target=\"_parent\"><img src=\"https://colab.research.google.com/assets/colab-badge.svg\" alt=\"Open In Colab\"/></a>"
      ]
    },
    {
      "cell_type": "code",
      "execution_count": 1,
      "metadata": {
        "id": "lYdsoxwF1BRJ"
      },
      "outputs": [],
      "source": [
        "import torch\n",
        "import torch.nn as nn\n",
        "import torch.nn.functional as F\n",
        "import math"
      ]
    },
    {
      "cell_type": "code",
      "source": [
        "class TokenEmbedding(nn.Module):\n",
        "    def __init__(self, vocab_size, embed_size):\n",
        "        super(TokenEmbedding, self).__init__()\n",
        "        self.embedding = nn.Embedding(vocab_size, embed_size)\n",
        "\n",
        "    def forward(self, x):\n",
        "        return self.embedding(x)"
      ],
      "metadata": {
        "id": "hta0L8K12dkz"
      },
      "execution_count": 2,
      "outputs": []
    },
    {
      "cell_type": "code",
      "source": [
        "class PositionalEncoding(nn.Module):\n",
        "    def __init__(self, embed_size, max_len=512):\n",
        "        super(PositionalEncoding, self).__init__()\n",
        "        self.encoding = torch.zeros(max_len, embed_size)\n",
        "        pos = torch.arange(0, max_len).unsqueeze(1).float()\n",
        "        i = torch.arange(0, embed_size // 2).float()\n",
        "        angle_rates = 1 / (10000 ** (2 * i / embed_size))\n",
        "        self.encoding[:, 0::2] = torch.sin(pos * angle_rates)\n",
        "        self.encoding[:, 1::2] = torch.cos(pos * angle_rates)\n",
        "        self.encoding = self.encoding.unsqueeze(0)\n",
        "\n",
        "    def forward(self, x):\n",
        "        return x + self.encoding[:, :x.size(1), :]"
      ],
      "metadata": {
        "id": "oDFVo2LC2gV7"
      },
      "execution_count": 3,
      "outputs": []
    },
    {
      "cell_type": "code",
      "source": [
        "class MultiHeadAttention(nn.Module):\n",
        "    def __init__(self, embed_size, heads):\n",
        "        super(MultiHeadAttention, self).__init__()\n",
        "        self.embed_size = embed_size\n",
        "        self.heads = heads\n",
        "        self.head_dim = embed_size // heads\n",
        "\n",
        "        assert self.head_dim * heads == embed_size, \"Embedding size must be divisible by heads\"\n",
        "\n",
        "        self.values = nn.Linear(self.head_dim, self.embed_size, bias=False)\n",
        "        self.keys = nn.Linear(self.head_dim, self.embed_size, bias=False)\n",
        "        self.queries = nn.Linear(self.head_dim, self.embed_size, bias=False)\n",
        "        self.fc_out = nn.Linear(embed_size, embed_size)\n",
        "\n",
        "    def forward(self, values, keys, query, mask):\n",
        "        N = query.shape[0]\n",
        "        value_len, key_len, query_len = values.shape[1], keys.shape[1], query.shape[1]\n",
        "\n",
        "        # Split embedding into self.heads pieces\n",
        "        values = values.reshape(N, value_len, self.heads, self.head_dim)\n",
        "        keys = keys.reshape(N, key_len, self.heads, self.head_dim)\n",
        "        queries = query.reshape(N, query_len, self.heads, self.head_dim)\n",
        "\n",
        "        energy = torch.einsum(\"nqhd,nkhd->nhqk\", [queries, keys])\n",
        "\n",
        "        if mask is not None:\n",
        "            energy = energy.masked_fill(mask == 0, float(\"-1e20\"))\n",
        "\n",
        "        attention = torch.softmax(energy / (self.embed_size ** (1 / 2)), dim=3)\n",
        "\n",
        "        out = torch.einsum(\"nhql,nlhd->nqhd\", [attention, values]).reshape(\n",
        "            N, query_len, self.embed_size\n",
        "        )\n",
        "\n",
        "        out = self.fc_out(out)\n",
        "        return out"
      ],
      "metadata": {
        "id": "ZbbuXJRJ2j2R"
      },
      "execution_count": 4,
      "outputs": []
    },
    {
      "cell_type": "code",
      "source": [
        "class FeedForward(nn.Module):\n",
        "    def __init__(self, embed_size, ff_hidden_size, dropout):\n",
        "        super(FeedForward, self).__init__()\n",
        "        self.fc1 = nn.Linear(embed_size, ff_hidden_size)\n",
        "        self.fc2 = nn.Linear(ff_hidden_size, embed_size)\n",
        "        self.dropout = nn.Dropout(dropout)\n",
        "\n",
        "    def forward(self, x):\n",
        "        return self.fc2(self.dropout(F.relu(self.fc1(x))))"
      ],
      "metadata": {
        "id": "Vh-2CQq22nM1"
      },
      "execution_count": 5,
      "outputs": []
    },
    {
      "cell_type": "code",
      "source": [
        "class TransformerBlock(nn.Module):\n",
        "    def __init__(self, embed_size, heads, ff_hidden_size, dropout):\n",
        "        super(TransformerBlock, self).__init__()\n",
        "        self.attention = MultiHeadAttention(embed_size, heads)\n",
        "        self.norm1 = nn.LayerNorm(embed_size)\n",
        "        self.norm2 = nn.LayerNorm(embed_size)\n",
        "        self.ff = FeedForward(embed_size, ff_hidden_size, dropout)\n",
        "        self.dropout = nn.Dropout(dropout)\n",
        "\n",
        "    def forward(self, value, key, query, mask):\n",
        "        attention = self.attention(value, key, query, mask)\n",
        "        x = self.dropout(self.norm1(attention + query))\n",
        "        forward = self.ff(x)\n",
        "        out = self.dropout(self.norm2(forward + x))\n",
        "        return out"
      ],
      "metadata": {
        "id": "_k-pDoZ52qEM"
      },
      "execution_count": 6,
      "outputs": []
    },
    {
      "cell_type": "code",
      "source": [
        "class BERT(nn.Module):\n",
        "    def __init__(self, vocab_size, embed_size, num_layers, heads, ff_hidden_size, dropout, max_len, num_classes):\n",
        "        super(BERT, self).__init__()\n",
        "        self.token_embedding = TokenEmbedding(vocab_size, embed_size)\n",
        "        self.position_encoding = PositionalEncoding(embed_size, max_len)\n",
        "        self.layers = nn.ModuleList(\n",
        "            [\n",
        "                TransformerBlock(embed_size, heads, ff_hidden_size, dropout)\n",
        "                for _ in range(num_layers)\n",
        "            ]\n",
        "        )\n",
        "        self.fc_out = nn.Linear(embed_size, num_classes)\n",
        "\n",
        "    def forward(self, x, mask):\n",
        "        out = self.token_embedding(x)\n",
        "        out = self.position_encoding(out)\n",
        "\n",
        "        for layer in self.layers:\n",
        "            out = layer(out, out, out, mask)\n",
        "\n",
        "        out = self.fc_out(out[:, 0, :])\n",
        "        return out"
      ],
      "metadata": {
        "id": "Mr0y33yE2tFd"
      },
      "execution_count": 7,
      "outputs": []
    },
    {
      "cell_type": "code",
      "source": [
        "# Example Testing\n",
        "vocab_size = 10000\n",
        "embed_size = 128\n",
        "num_layers = 2\n",
        "heads = 8\n",
        "ff_hidden_size = 512\n",
        "dropout = 0.3\n",
        "max_len = 512\n",
        "num_classes = 2  # Binary classification\n",
        "\n",
        "model = BERT(vocab_size, embed_size, num_layers, heads, ff_hidden_size, dropout, max_len, num_classes)\n",
        "\n",
        "# Example input: batch size of 2, sequence length of 10\n",
        "x = torch.randint(0, vocab_size, (2, 10))\n",
        "mask = None  # No masking in this simplified example\n",
        "\n",
        "# Forward pass\n",
        "logits = model(x, mask)\n",
        "print(logits)"
      ],
      "metadata": {
        "colab": {
          "base_uri": "https://localhost:8080/"
        },
        "id": "FLWPWWG22vvj",
        "outputId": "b0f48168-0359-43bf-d4cc-036d93dd1dd1"
      },
      "execution_count": 8,
      "outputs": [
        {
          "output_type": "stream",
          "name": "stdout",
          "text": [
            "tensor([[-0.4993, -1.7488],\n",
            "        [ 1.5556, -0.1431]], grad_fn=<AddmmBackward0>)\n"
          ]
        }
      ]
    }
  ]
}